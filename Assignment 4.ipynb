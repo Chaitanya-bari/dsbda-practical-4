{
 "cells": [
  {
   "cell_type": "code",
   "execution_count": 54,
   "id": "5acef0d0",
   "metadata": {},
   "outputs": [
    {
     "data": {
      "text/html": [
       "<div>\n",
       "<style scoped>\n",
       "    .dataframe tbody tr th:only-of-type {\n",
       "        vertical-align: middle;\n",
       "    }\n",
       "\n",
       "    .dataframe tbody tr th {\n",
       "        vertical-align: top;\n",
       "    }\n",
       "\n",
       "    .dataframe thead th {\n",
       "        text-align: right;\n",
       "    }\n",
       "</style>\n",
       "<table border=\"1\" class=\"dataframe\">\n",
       "  <thead>\n",
       "    <tr style=\"text-align: right;\">\n",
       "      <th></th>\n",
       "      <th>X</th>\n",
       "      <th>Y</th>\n",
       "      <th>month</th>\n",
       "      <th>day</th>\n",
       "      <th>FFMC</th>\n",
       "      <th>DMC</th>\n",
       "      <th>DC</th>\n",
       "      <th>ISI</th>\n",
       "      <th>temp</th>\n",
       "      <th>RH</th>\n",
       "      <th>wind</th>\n",
       "      <th>rain</th>\n",
       "      <th>area</th>\n",
       "    </tr>\n",
       "  </thead>\n",
       "  <tbody>\n",
       "    <tr>\n",
       "      <th>0</th>\n",
       "      <td>7</td>\n",
       "      <td>5</td>\n",
       "      <td>mar</td>\n",
       "      <td>fri</td>\n",
       "      <td>86.2</td>\n",
       "      <td>26.2</td>\n",
       "      <td>94.3</td>\n",
       "      <td>5.1</td>\n",
       "      <td>8.2</td>\n",
       "      <td>51</td>\n",
       "      <td>6.7</td>\n",
       "      <td>0.0</td>\n",
       "      <td>0.0</td>\n",
       "    </tr>\n",
       "    <tr>\n",
       "      <th>1</th>\n",
       "      <td>7</td>\n",
       "      <td>4</td>\n",
       "      <td>oct</td>\n",
       "      <td>tue</td>\n",
       "      <td>90.6</td>\n",
       "      <td>35.4</td>\n",
       "      <td>669.1</td>\n",
       "      <td>6.7</td>\n",
       "      <td>18.0</td>\n",
       "      <td>33</td>\n",
       "      <td>0.9</td>\n",
       "      <td>0.0</td>\n",
       "      <td>0.0</td>\n",
       "    </tr>\n",
       "    <tr>\n",
       "      <th>2</th>\n",
       "      <td>7</td>\n",
       "      <td>4</td>\n",
       "      <td>oct</td>\n",
       "      <td>sat</td>\n",
       "      <td>90.6</td>\n",
       "      <td>43.7</td>\n",
       "      <td>686.9</td>\n",
       "      <td>6.7</td>\n",
       "      <td>14.6</td>\n",
       "      <td>33</td>\n",
       "      <td>1.3</td>\n",
       "      <td>0.0</td>\n",
       "      <td>0.0</td>\n",
       "    </tr>\n",
       "    <tr>\n",
       "      <th>3</th>\n",
       "      <td>8</td>\n",
       "      <td>6</td>\n",
       "      <td>mar</td>\n",
       "      <td>fri</td>\n",
       "      <td>91.7</td>\n",
       "      <td>33.3</td>\n",
       "      <td>77.5</td>\n",
       "      <td>9.0</td>\n",
       "      <td>8.3</td>\n",
       "      <td>97</td>\n",
       "      <td>4.0</td>\n",
       "      <td>0.2</td>\n",
       "      <td>0.0</td>\n",
       "    </tr>\n",
       "    <tr>\n",
       "      <th>4</th>\n",
       "      <td>8</td>\n",
       "      <td>6</td>\n",
       "      <td>mar</td>\n",
       "      <td>sun</td>\n",
       "      <td>89.3</td>\n",
       "      <td>51.3</td>\n",
       "      <td>102.2</td>\n",
       "      <td>9.6</td>\n",
       "      <td>11.4</td>\n",
       "      <td>99</td>\n",
       "      <td>1.8</td>\n",
       "      <td>0.0</td>\n",
       "      <td>0.0</td>\n",
       "    </tr>\n",
       "  </tbody>\n",
       "</table>\n",
       "</div>"
      ],
      "text/plain": [
       "   X  Y month  day  FFMC   DMC     DC  ISI  temp  RH  wind  rain  area\n",
       "0  7  5   mar  fri  86.2  26.2   94.3  5.1   8.2  51   6.7   0.0   0.0\n",
       "1  7  4   oct  tue  90.6  35.4  669.1  6.7  18.0  33   0.9   0.0   0.0\n",
       "2  7  4   oct  sat  90.6  43.7  686.9  6.7  14.6  33   1.3   0.0   0.0\n",
       "3  8  6   mar  fri  91.7  33.3   77.5  9.0   8.3  97   4.0   0.2   0.0\n",
       "4  8  6   mar  sun  89.3  51.3  102.2  9.6  11.4  99   1.8   0.0   0.0"
      ]
     },
     "execution_count": 54,
     "metadata": {},
     "output_type": "execute_result"
    }
   ],
   "source": [
    "import pandas as pd\n",
    "import numpy as np\n",
    "import matplotlib.pyplot as plt\n",
    "df=pd.read_csv(\"forestfires.csv\")\n",
    "df.head()"
   ]
  },
  {
   "cell_type": "code",
   "execution_count": 2,
   "id": "dc32b54b",
   "metadata": {},
   "outputs": [
    {
     "data": {
      "text/plain": [
       "(517, 13)"
      ]
     },
     "execution_count": 2,
     "metadata": {},
     "output_type": "execute_result"
    }
   ],
   "source": [
    "df.shape"
   ]
  },
  {
   "cell_type": "code",
   "execution_count": 3,
   "id": "27857f0b",
   "metadata": {},
   "outputs": [
    {
     "data": {
      "text/html": [
       "<div>\n",
       "<style scoped>\n",
       "    .dataframe tbody tr th:only-of-type {\n",
       "        vertical-align: middle;\n",
       "    }\n",
       "\n",
       "    .dataframe tbody tr th {\n",
       "        vertical-align: top;\n",
       "    }\n",
       "\n",
       "    .dataframe thead th {\n",
       "        text-align: right;\n",
       "    }\n",
       "</style>\n",
       "<table border=\"1\" class=\"dataframe\">\n",
       "  <thead>\n",
       "    <tr style=\"text-align: right;\">\n",
       "      <th></th>\n",
       "      <th>X</th>\n",
       "      <th>Y</th>\n",
       "      <th>FFMC</th>\n",
       "      <th>DMC</th>\n",
       "      <th>DC</th>\n",
       "      <th>ISI</th>\n",
       "      <th>temp</th>\n",
       "      <th>RH</th>\n",
       "      <th>wind</th>\n",
       "      <th>rain</th>\n",
       "      <th>area</th>\n",
       "    </tr>\n",
       "  </thead>\n",
       "  <tbody>\n",
       "    <tr>\n",
       "      <th>count</th>\n",
       "      <td>517.000000</td>\n",
       "      <td>517.000000</td>\n",
       "      <td>517.000000</td>\n",
       "      <td>517.000000</td>\n",
       "      <td>517.000000</td>\n",
       "      <td>517.000000</td>\n",
       "      <td>517.000000</td>\n",
       "      <td>517.000000</td>\n",
       "      <td>517.000000</td>\n",
       "      <td>517.000000</td>\n",
       "      <td>517.000000</td>\n",
       "    </tr>\n",
       "    <tr>\n",
       "      <th>mean</th>\n",
       "      <td>4.669246</td>\n",
       "      <td>4.299807</td>\n",
       "      <td>90.644681</td>\n",
       "      <td>110.872340</td>\n",
       "      <td>547.940039</td>\n",
       "      <td>9.021663</td>\n",
       "      <td>18.889168</td>\n",
       "      <td>44.288201</td>\n",
       "      <td>4.017602</td>\n",
       "      <td>0.021663</td>\n",
       "      <td>12.847292</td>\n",
       "    </tr>\n",
       "    <tr>\n",
       "      <th>std</th>\n",
       "      <td>2.313778</td>\n",
       "      <td>1.229900</td>\n",
       "      <td>5.520111</td>\n",
       "      <td>64.046482</td>\n",
       "      <td>248.066192</td>\n",
       "      <td>4.559477</td>\n",
       "      <td>5.806625</td>\n",
       "      <td>16.317469</td>\n",
       "      <td>1.791653</td>\n",
       "      <td>0.295959</td>\n",
       "      <td>63.655818</td>\n",
       "    </tr>\n",
       "    <tr>\n",
       "      <th>min</th>\n",
       "      <td>1.000000</td>\n",
       "      <td>2.000000</td>\n",
       "      <td>18.700000</td>\n",
       "      <td>1.100000</td>\n",
       "      <td>7.900000</td>\n",
       "      <td>0.000000</td>\n",
       "      <td>2.200000</td>\n",
       "      <td>15.000000</td>\n",
       "      <td>0.400000</td>\n",
       "      <td>0.000000</td>\n",
       "      <td>0.000000</td>\n",
       "    </tr>\n",
       "    <tr>\n",
       "      <th>25%</th>\n",
       "      <td>3.000000</td>\n",
       "      <td>4.000000</td>\n",
       "      <td>90.200000</td>\n",
       "      <td>68.600000</td>\n",
       "      <td>437.700000</td>\n",
       "      <td>6.500000</td>\n",
       "      <td>15.500000</td>\n",
       "      <td>33.000000</td>\n",
       "      <td>2.700000</td>\n",
       "      <td>0.000000</td>\n",
       "      <td>0.000000</td>\n",
       "    </tr>\n",
       "    <tr>\n",
       "      <th>50%</th>\n",
       "      <td>4.000000</td>\n",
       "      <td>4.000000</td>\n",
       "      <td>91.600000</td>\n",
       "      <td>108.300000</td>\n",
       "      <td>664.200000</td>\n",
       "      <td>8.400000</td>\n",
       "      <td>19.300000</td>\n",
       "      <td>42.000000</td>\n",
       "      <td>4.000000</td>\n",
       "      <td>0.000000</td>\n",
       "      <td>0.520000</td>\n",
       "    </tr>\n",
       "    <tr>\n",
       "      <th>75%</th>\n",
       "      <td>7.000000</td>\n",
       "      <td>5.000000</td>\n",
       "      <td>92.900000</td>\n",
       "      <td>142.400000</td>\n",
       "      <td>713.900000</td>\n",
       "      <td>10.800000</td>\n",
       "      <td>22.800000</td>\n",
       "      <td>53.000000</td>\n",
       "      <td>4.900000</td>\n",
       "      <td>0.000000</td>\n",
       "      <td>6.570000</td>\n",
       "    </tr>\n",
       "    <tr>\n",
       "      <th>max</th>\n",
       "      <td>9.000000</td>\n",
       "      <td>9.000000</td>\n",
       "      <td>96.200000</td>\n",
       "      <td>291.300000</td>\n",
       "      <td>860.600000</td>\n",
       "      <td>56.100000</td>\n",
       "      <td>33.300000</td>\n",
       "      <td>100.000000</td>\n",
       "      <td>9.400000</td>\n",
       "      <td>6.400000</td>\n",
       "      <td>1090.840000</td>\n",
       "    </tr>\n",
       "  </tbody>\n",
       "</table>\n",
       "</div>"
      ],
      "text/plain": [
       "                X           Y        FFMC         DMC          DC         ISI  \\\n",
       "count  517.000000  517.000000  517.000000  517.000000  517.000000  517.000000   \n",
       "mean     4.669246    4.299807   90.644681  110.872340  547.940039    9.021663   \n",
       "std      2.313778    1.229900    5.520111   64.046482  248.066192    4.559477   \n",
       "min      1.000000    2.000000   18.700000    1.100000    7.900000    0.000000   \n",
       "25%      3.000000    4.000000   90.200000   68.600000  437.700000    6.500000   \n",
       "50%      4.000000    4.000000   91.600000  108.300000  664.200000    8.400000   \n",
       "75%      7.000000    5.000000   92.900000  142.400000  713.900000   10.800000   \n",
       "max      9.000000    9.000000   96.200000  291.300000  860.600000   56.100000   \n",
       "\n",
       "             temp          RH        wind        rain         area  \n",
       "count  517.000000  517.000000  517.000000  517.000000   517.000000  \n",
       "mean    18.889168   44.288201    4.017602    0.021663    12.847292  \n",
       "std      5.806625   16.317469    1.791653    0.295959    63.655818  \n",
       "min      2.200000   15.000000    0.400000    0.000000     0.000000  \n",
       "25%     15.500000   33.000000    2.700000    0.000000     0.000000  \n",
       "50%     19.300000   42.000000    4.000000    0.000000     0.520000  \n",
       "75%     22.800000   53.000000    4.900000    0.000000     6.570000  \n",
       "max     33.300000  100.000000    9.400000    6.400000  1090.840000  "
      ]
     },
     "execution_count": 3,
     "metadata": {},
     "output_type": "execute_result"
    }
   ],
   "source": [
    "df.describe()"
   ]
  },
  {
   "cell_type": "code",
   "execution_count": 4,
   "id": "3d5cecd9",
   "metadata": {},
   "outputs": [
    {
     "data": {
      "text/plain": [
       "X        0\n",
       "Y        0\n",
       "month    0\n",
       "day      0\n",
       "FFMC     0\n",
       "DMC      0\n",
       "DC       0\n",
       "ISI      0\n",
       "temp     0\n",
       "RH       0\n",
       "wind     0\n",
       "rain     0\n",
       "area     0\n",
       "dtype: int64"
      ]
     },
     "execution_count": 4,
     "metadata": {},
     "output_type": "execute_result"
    }
   ],
   "source": [
    "df.isnull().sum()"
   ]
  },
  {
   "cell_type": "code",
   "execution_count": 37,
   "id": "e9d984e9",
   "metadata": {},
   "outputs": [
    {
     "data": {
      "text/plain": [
       "X          int64\n",
       "Y          int64\n",
       "month      int64\n",
       "day        int64\n",
       "FFMC     float64\n",
       "DMC      float64\n",
       "DC       float64\n",
       "ISI      float64\n",
       "temp     float64\n",
       "RH         int64\n",
       "wind     float64\n",
       "rain     float64\n",
       "area     float64\n",
       "dtype: object"
      ]
     },
     "execution_count": 37,
     "metadata": {},
     "output_type": "execute_result"
    }
   ],
   "source": [
    "df.dtypes"
   ]
  },
  {
   "cell_type": "code",
   "execution_count": 39,
   "id": "080df0e7",
   "metadata": {
    "scrolled": true
   },
   "outputs": [
    {
     "data": {
      "text/plain": [
       "{'whiskers': [<matplotlib.lines.Line2D at 0x2ae7cff42e0>,\n",
       "  <matplotlib.lines.Line2D at 0x2ae7cff4640>,\n",
       "  <matplotlib.lines.Line2D at 0x2ae7d002ac0>,\n",
       "  <matplotlib.lines.Line2D at 0x2ae7d002e20>,\n",
       "  <matplotlib.lines.Line2D at 0x2ae7d0182e0>,\n",
       "  <matplotlib.lines.Line2D at 0x2ae7d018640>,\n",
       "  <matplotlib.lines.Line2D at 0x2ae7d025ac0>,\n",
       "  <matplotlib.lines.Line2D at 0x2ae7d025e20>,\n",
       "  <matplotlib.lines.Line2D at 0x2ae7d03c2e0>,\n",
       "  <matplotlib.lines.Line2D at 0x2ae7d03c640>,\n",
       "  <matplotlib.lines.Line2D at 0x2ae7d049ac0>,\n",
       "  <matplotlib.lines.Line2D at 0x2ae7d049e20>,\n",
       "  <matplotlib.lines.Line2D at 0x2ae7d0622e0>,\n",
       "  <matplotlib.lines.Line2D at 0x2ae7d062640>,\n",
       "  <matplotlib.lines.Line2D at 0x2ae7d06cac0>,\n",
       "  <matplotlib.lines.Line2D at 0x2ae7d06ce20>,\n",
       "  <matplotlib.lines.Line2D at 0x2ae7d0832e0>,\n",
       "  <matplotlib.lines.Line2D at 0x2ae7d083640>,\n",
       "  <matplotlib.lines.Line2D at 0x2ae7d092ac0>,\n",
       "  <matplotlib.lines.Line2D at 0x2ae7d092e20>,\n",
       "  <matplotlib.lines.Line2D at 0x2ae7d0a92e0>,\n",
       "  <matplotlib.lines.Line2D at 0x2ae7d0a9640>,\n",
       "  <matplotlib.lines.Line2D at 0x2ae7d0b3ac0>,\n",
       "  <matplotlib.lines.Line2D at 0x2ae7d0b3e20>,\n",
       "  <matplotlib.lines.Line2D at 0x2ae7d0cd2e0>,\n",
       "  <matplotlib.lines.Line2D at 0x2ae7d0cd640>],\n",
       " 'caps': [<matplotlib.lines.Line2D at 0x2ae7cff49a0>,\n",
       "  <matplotlib.lines.Line2D at 0x2ae7cff4d00>,\n",
       "  <matplotlib.lines.Line2D at 0x2ae7d00d1c0>,\n",
       "  <matplotlib.lines.Line2D at 0x2ae7d00d520>,\n",
       "  <matplotlib.lines.Line2D at 0x2ae7d0189a0>,\n",
       "  <matplotlib.lines.Line2D at 0x2ae7d018d00>,\n",
       "  <matplotlib.lines.Line2D at 0x2ae7d0311c0>,\n",
       "  <matplotlib.lines.Line2D at 0x2ae7d031520>,\n",
       "  <matplotlib.lines.Line2D at 0x2ae7d03c9a0>,\n",
       "  <matplotlib.lines.Line2D at 0x2ae7d03cd00>,\n",
       "  <matplotlib.lines.Line2D at 0x2ae7d0541c0>,\n",
       "  <matplotlib.lines.Line2D at 0x2ae7d054520>,\n",
       "  <matplotlib.lines.Line2D at 0x2ae7d0629a0>,\n",
       "  <matplotlib.lines.Line2D at 0x2ae7d062d00>,\n",
       "  <matplotlib.lines.Line2D at 0x2ae7d0791c0>,\n",
       "  <matplotlib.lines.Line2D at 0x2ae7d079520>,\n",
       "  <matplotlib.lines.Line2D at 0x2ae7d0839a0>,\n",
       "  <matplotlib.lines.Line2D at 0x2ae7d083d00>,\n",
       "  <matplotlib.lines.Line2D at 0x2ae7d09c1c0>,\n",
       "  <matplotlib.lines.Line2D at 0x2ae7d09c520>,\n",
       "  <matplotlib.lines.Line2D at 0x2ae7d0a99a0>,\n",
       "  <matplotlib.lines.Line2D at 0x2ae7d0a9d00>,\n",
       "  <matplotlib.lines.Line2D at 0x2ae7d0c01c0>,\n",
       "  <matplotlib.lines.Line2D at 0x2ae7d0c0520>,\n",
       "  <matplotlib.lines.Line2D at 0x2ae7d0cd9a0>,\n",
       "  <matplotlib.lines.Line2D at 0x2ae7d0cdd00>],\n",
       " 'boxes': [<matplotlib.lines.Line2D at 0x2ae7cfe5f40>,\n",
       "  <matplotlib.lines.Line2D at 0x2ae7d002760>,\n",
       "  <matplotlib.lines.Line2D at 0x2ae7d00df40>,\n",
       "  <matplotlib.lines.Line2D at 0x2ae7d025760>,\n",
       "  <matplotlib.lines.Line2D at 0x2ae7d031f40>,\n",
       "  <matplotlib.lines.Line2D at 0x2ae7d049760>,\n",
       "  <matplotlib.lines.Line2D at 0x2ae7d054f40>,\n",
       "  <matplotlib.lines.Line2D at 0x2ae7d06c760>,\n",
       "  <matplotlib.lines.Line2D at 0x2ae7d079f40>,\n",
       "  <matplotlib.lines.Line2D at 0x2ae7d092760>,\n",
       "  <matplotlib.lines.Line2D at 0x2ae7d09cf40>,\n",
       "  <matplotlib.lines.Line2D at 0x2ae7d0b3760>,\n",
       "  <matplotlib.lines.Line2D at 0x2ae7d0c0f40>],\n",
       " 'medians': [<matplotlib.lines.Line2D at 0x2ae7d0020a0>,\n",
       "  <matplotlib.lines.Line2D at 0x2ae7d00d880>,\n",
       "  <matplotlib.lines.Line2D at 0x2ae7d0250a0>,\n",
       "  <matplotlib.lines.Line2D at 0x2ae7d031880>,\n",
       "  <matplotlib.lines.Line2D at 0x2ae7d0490a0>,\n",
       "  <matplotlib.lines.Line2D at 0x2ae7d054880>,\n",
       "  <matplotlib.lines.Line2D at 0x2ae7d06c0a0>,\n",
       "  <matplotlib.lines.Line2D at 0x2ae7d079880>,\n",
       "  <matplotlib.lines.Line2D at 0x2ae7d0920a0>,\n",
       "  <matplotlib.lines.Line2D at 0x2ae7d09c880>,\n",
       "  <matplotlib.lines.Line2D at 0x2ae7d0b30a0>,\n",
       "  <matplotlib.lines.Line2D at 0x2ae7d0c0880>,\n",
       "  <matplotlib.lines.Line2D at 0x2ae7d0d80a0>],\n",
       " 'fliers': [<matplotlib.lines.Line2D at 0x2ae7d002400>,\n",
       "  <matplotlib.lines.Line2D at 0x2ae7d00dbe0>,\n",
       "  <matplotlib.lines.Line2D at 0x2ae7d025400>,\n",
       "  <matplotlib.lines.Line2D at 0x2ae7d031be0>,\n",
       "  <matplotlib.lines.Line2D at 0x2ae7d049400>,\n",
       "  <matplotlib.lines.Line2D at 0x2ae7d054be0>,\n",
       "  <matplotlib.lines.Line2D at 0x2ae7d06c400>,\n",
       "  <matplotlib.lines.Line2D at 0x2ae7d079be0>,\n",
       "  <matplotlib.lines.Line2D at 0x2ae7d092400>,\n",
       "  <matplotlib.lines.Line2D at 0x2ae7d09cbe0>,\n",
       "  <matplotlib.lines.Line2D at 0x2ae7d0b3400>,\n",
       "  <matplotlib.lines.Line2D at 0x2ae7d0c0be0>,\n",
       "  <matplotlib.lines.Line2D at 0x2ae7d0d8400>],\n",
       " 'means': []}"
      ]
     },
     "execution_count": 39,
     "metadata": {},
     "output_type": "execute_result"
    },
    {
     "data": {
      "image/png": "[encoded data removed]",
      "text/plain": [
       "<Figure size 432x288 with 1 Axes>"
      ]
     },
     "metadata": {
      "needs_background": "light"
     },
     "output_type": "display_data"
    }
   ],
   "source": [
    "plt.title(\"fire distributaion\")\n",
    "plt.boxplot(df)"
   ]
  },
  {
   "cell_type": "code",
   "execution_count": 12,
   "id": "f0b33f7d",
   "metadata": {},
   "outputs": [
    {
     "data": {
      "text/plain": [
       "{}"
      ]
     },
     "execution_count": 12,
     "metadata": {},
     "output_type": "execute_result"
    }
   ],
   "source": [
    "from sklearn import preprocessing\n",
    "le = preprocessing.LabelEncoder()\n",
    "df['month']=le.fit_transform(df['month'])\n",
    "df['day']=le.fit_transform(df['day'])\n",
    "le.get_params(deep=True)"
   ]
  },
  {
   "cell_type": "code",
   "execution_count": 16,
   "id": "080eece9",
   "metadata": {},
   "outputs": [
    {
     "data": {
      "text/plain": [
       "0     7\n",
       "1    10\n",
       "2    10\n",
       "3     7\n",
       "4     7\n",
       "Name: month, dtype: int64"
      ]
     },
     "execution_count": 16,
     "metadata": {},
     "output_type": "execute_result"
    }
   ],
   "source": [
    "df.month.head()"
   ]
  },
  {
   "cell_type": "code",
   "execution_count": 23,
   "id": "19e98913",
   "metadata": {},
   "outputs": [
    {
     "data": {
      "image/png": "[encoded data removed]",
      "text/plain": [
       "<Figure size 432x288 with 1 Axes>"
      ]
     },
     "metadata": {
      "needs_background": "light"
     },
     "output_type": "display_data"
    }
   ],
   "source": [
    "\n",
    "df.plot()\n",
    "plt.grid()"
   ]
  },
  {
   "cell_type": "code",
   "execution_count": 20,
   "id": "96181f08",
   "metadata": {},
   "outputs": [
    {
     "data": {
      "text/plain": [
       "<BarContainer object of 517 artists>"
      ]
     },
     "execution_count": 20,
     "metadata": {},
     "output_type": "execute_result"
    },
    {
     "data": {
      "image/png": "[encoded data removed]",
      "text/plain": [
       "<Figure size 432x288 with 1 Axes>"
      ]
     },
     "metadata": {
      "needs_background": "light"
     },
     "output_type": "display_data"
    }
   ],
   "source": [
    "plt.title(\"fire distributaion\")\n",
    "plt.xlabel(\"month\")\n",
    "plt.ylabel(\"area\")\n",
    "plt.bar(df.month,df.area)"
   ]
  },
  {
   "cell_type": "code",
   "execution_count": 59,
   "id": "14b2e29b",
   "metadata": {},
   "outputs": [
    {
     "data": {
      "text/plain": [
       "<matplotlib.collections.PathCollection at 0x2ae7e6c4370>"
      ]
     },
     "execution_count": 59,
     "metadata": {},
     "output_type": "execute_result"
    },
    {
     "data": {
      "image/png": "[encoded data removed]",
      "text/plain": [
       "<Figure size 432x288 with 1 Axes>"
      ]
     },
     "metadata": {
      "needs_background": "light"
     },
     "output_type": "display_data"
    }
   ],
   "source": [
    "plt.title(\"fire distributaion\")\n",
    "plt.xlabel(\"month\")\n",
    "plt.ylabel(\"wind\")\n",
    "plt.scatter(df.month,df.wind,color=\"black\")"
   ]
  },
  {
   "cell_type": "code",
   "execution_count": 47,
   "id": "b54d005b",
   "metadata": {},
   "outputs": [
    {
     "data": {
      "text/plain": [
       "[<matplotlib.lines.Line2D at 0x2ae7d4b2520>,\n",
       " <matplotlib.lines.Line2D at 0x2ae7d4b28b0>]"
      ]
     },
     "execution_count": 47,
     "metadata": {},
     "output_type": "execute_result"
    },
    {
     "data": {
      "image/png": "[encoded data removed]",
      "text/plain": [
       "<Figure size 432x288 with 1 Axes>"
      ]
     },
     "metadata": {
      "needs_background": "light"
     },
     "output_type": "display_data"
    }
   ],
   "source": [
    "plt.title(\"fire distributaion\")\n",
    "plt.xlabel(\"area\")\n",
    "plt.ylabel(\"rain\")\n",
    "plt.triplot(df.area,df.rain,color=\"red\")"
   ]
  },
  {
   "cell_type": "code",
   "execution_count": null,
   "id": "8962ac71",
   "metadata": {},
   "outputs": [],
   "source": []
  }
 ],
 "metadata": {
  "kernelspec": {
   "display_name": "Python 3",
   "language": "python",
   "name": "python3"
  },
  "language_info": {
   "codemirror_mode": {
    "name": "ipython",
    "version": 3
   },
   "file_extension": ".py",
   "mimetype": "text/x-python",
   "name": "python",
   "nbconvert_exporter": "python",
   "pygments_lexer": "ipython3",
   "version": "3.8.8"
  }
 },
 "nbformat": 4,
 "nbformat_minor": 5
}
